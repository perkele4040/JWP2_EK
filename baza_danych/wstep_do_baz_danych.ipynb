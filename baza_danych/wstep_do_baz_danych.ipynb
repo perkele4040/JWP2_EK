{
 "cells": [
  {
   "cell_type": "code",
   "execution_count": 2,
   "id": "3d30d01b-a4d6-4a6c-abc5-b771fd528eb8",
   "metadata": {},
   "outputs": [],
   "source": [
    "from sqlalchemy import create_engine, MetaData\n",
    "from sqlalchemy import inspect\n",
    "\n",
    "from sqlalchemy import (\n",
    "    Table, \n",
    "    Column, \n",
    "    String,\n",
    "    Integer, \n",
    "    Float,\n",
    "    Boolean,\n",
    "    select,\n",
    "    text,\n",
    "    func\n",
    ")\n",
    "\n",
    "import sqlalchemy as db"
   ]
  },
  {
   "cell_type": "code",
   "execution_count": 3,
   "id": "5722ebb3-2129-4cf7-a004-87dc36d2e00c",
   "metadata": {},
   "outputs": [],
   "source": [
    "engine = create_engine('sqlite:///census.sqlite')"
   ]
  },
  {
   "cell_type": "code",
   "execution_count": 4,
   "id": "e399a284-a97c-4d13-973c-e2cc03111dbb",
   "metadata": {},
   "outputs": [
    {
     "name": "stdout",
     "output_type": "stream",
     "text": [
      "['census', 'state_fact']\n"
     ]
    }
   ],
   "source": [
    "inspector = inspect(engine)\n",
    "table_names = inspector.get_table_names()\n",
    "print(table_names)"
   ]
  },
  {
   "cell_type": "code",
   "execution_count": 5,
   "id": "f36fe41c-53f4-4814-8fd7-c4fa4ee7d47e",
   "metadata": {},
   "outputs": [
    {
     "name": "stdout",
     "output_type": "stream",
     "text": [
      "<sqlalchemy.engine.base.Connection object at 0x000002388DEEDCD0>\n"
     ]
    }
   ],
   "source": [
    "connection = engine.connect()\n",
    "print(connection)"
   ]
  },
  {
   "cell_type": "code",
   "execution_count": 6,
   "id": "2d3f1b32-9685-4e99-855b-b90c39afcf7e",
   "metadata": {},
   "outputs": [
    {
     "name": "stdout",
     "output_type": "stream",
     "text": [
      "Table('census', MetaData(), Column('state', VARCHAR(length=30), table=<census>), Column('sex', VARCHAR(length=1), table=<census>), Column('age', INTEGER(), table=<census>), Column('pop2000', INTEGER(), table=<census>), Column('pop2008', INTEGER(), table=<census>), schema=None)\n"
     ]
    }
   ],
   "source": [
    "metadata = MetaData()\n",
    "census = Table('census', metadata, autoload_with=engine)\n",
    "print(repr(census))"
   ]
  },
  {
   "cell_type": "code",
   "execution_count": 8,
   "id": "947d7a9d-60d3-4cd1-bf96-06ae0da6ac3b",
   "metadata": {},
   "outputs": [
    {
     "name": "stdout",
     "output_type": "stream",
     "text": [
      "[('Illinois', 'M'), ('Illinois', 'M'), ('Illinois', 'M'), ('Illinois', 'M'), ('Illinois', 'M')]\n"
     ]
    }
   ],
   "source": [
    "stmt = text('SELECT state, sex FROM census')  \n",
    "result_proxy = connection.execute(stmt)\n",
    "results = result_proxy.fetchall()\n",
    "print(results[:5])"
   ]
  },
  {
   "cell_type": "code",
   "execution_count": 13,
   "id": "d5b5ca84-5222-4ac1-ab58-2e8b77ae47c8",
   "metadata": {},
   "outputs": [
    {
     "name": "stdout",
     "output_type": "stream",
     "text": [
      "[('Illinois', 'M'), ('Illinois', 'M'), ('Illinois', 'M'), ('Illinois', 'M'), ('Illinois', 'M')]\n"
     ]
    }
   ],
   "source": [
    "query = select(census.c.state, census.c.sex)\n",
    "output = connection.execute(query)\n",
    "results = output.fetchall()\n",
    "print(results[:5])"
   ]
  },
  {
   "cell_type": "code",
   "execution_count": 15,
   "id": "fe680227-b03d-4a0e-a262-843f2ec5f9c3",
   "metadata": {},
   "outputs": [
    {
     "name": "stdout",
     "output_type": "stream",
     "text": [
      "SELECT census.state, census.sex \n",
      "FROM census\n"
     ]
    }
   ],
   "source": [
    "print(query)"
   ]
  },
  {
   "cell_type": "code",
   "execution_count": 16,
   "id": "d63f3a34-5e55-4823-bb89-78bdbaf30c13",
   "metadata": {},
   "outputs": [
    {
     "name": "stdout",
     "output_type": "stream",
     "text": [
      "[(302876613,)]\n"
     ]
    }
   ],
   "source": [
    "stmt = select(\n",
    "    func.sum(census.c.pop2008)\n",
    ")\n",
    "results = connection.execute(stmt).fetchall()\n",
    "print(results)"
   ]
  },
  {
   "cell_type": "code",
   "execution_count": 31,
   "id": "b5cff703-24e1-4b5f-9ded-2ec79a2278fb",
   "metadata": {},
   "outputs": [],
   "source": [
    "stmt = select(\n",
    "    func.sum(census.c.pop2008)\n",
    ").where(census.c.sex == 'F')"
   ]
  },
  {
   "cell_type": "code",
   "execution_count": 32,
   "id": "1c2505a0-3d8e-45e0-a758-990f98e2d6a2",
   "metadata": {},
   "outputs": [
    {
     "name": "stdout",
     "output_type": "stream",
     "text": [
      "[(153959198,)]\n"
     ]
    }
   ],
   "source": [
    "results = connection.execute(stmt).fetchall()\n",
    "print(results)"
   ]
  },
  {
   "cell_type": "code",
   "execution_count": null,
   "id": "7c33fc3d-9d15-4639-8bb5-51c8087a0994",
   "metadata": {},
   "outputs": [],
   "source": []
  },
  {
   "cell_type": "code",
   "execution_count": null,
   "id": "88ab8570-054d-413c-99a9-d9c3ce6d3c09",
   "metadata": {},
   "outputs": [],
   "source": []
  },
  {
   "cell_type": "code",
   "execution_count": null,
   "id": "50398b36-7037-4c9d-9380-507a99272985",
   "metadata": {},
   "outputs": [],
   "source": []
  },
  {
   "cell_type": "code",
   "execution_count": null,
   "id": "1f854e3d-8f3d-441d-9861-160e552fba54",
   "metadata": {},
   "outputs": [],
   "source": []
  }
 ],
 "metadata": {
  "kernelspec": {
   "display_name": "Python 3 (ipykernel)",
   "language": "python",
   "name": "python3"
  },
  "language_info": {
   "codemirror_mode": {
    "name": "ipython",
    "version": 3
   },
   "file_extension": ".py",
   "mimetype": "text/x-python",
   "name": "python",
   "nbconvert_exporter": "python",
   "pygments_lexer": "ipython3",
   "version": "3.11.9"
  }
 },
 "nbformat": 4,
 "nbformat_minor": 5
}
